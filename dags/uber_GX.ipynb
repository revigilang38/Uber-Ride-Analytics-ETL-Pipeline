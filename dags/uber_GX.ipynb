{
 "cells": [
  {
   "cell_type": "code",
   "execution_count": 1,
   "id": "15635c43",
   "metadata": {},
   "outputs": [],
   "source": [
    "# # Install the library\n",
    "# !pip install -q \"great-expectations==0.18.19\""
   ]
  },
  {
   "cell_type": "code",
   "execution_count": 2,
   "id": "a77c7acb",
   "metadata": {},
   "outputs": [],
   "source": [
    "# create a data context\n",
    "from great_expectations.data_context import FileDataContext\n",
    "\n",
    "import pandas as pd\n",
    "from great_expectations.data_context import FileDataContext\n",
    "\n",
    "\n",
    "context = FileDataContext.create(project_root_dir='./')"
   ]
  },
  {
   "cell_type": "code",
   "execution_count": null,
   "id": "36fd2275",
   "metadata": {},
   "outputs": [
    {
     "data": {
      "application/vnd.jupyter.widget-view+json": {
       "model_id": "1098e05ca1cc4904a4461f1d5bacc3ab",
       "version_major": 2,
       "version_minor": 0
      },
      "text/plain": [
       "Calculating Metrics:   0%|          | 0/1 [00:00<?, ?it/s]"
      ]
     },
     "metadata": {},
     "output_type": "display_data"
    },
    {
     "data": {
      "text/html": [
       "<div>\n",
       "<style scoped>\n",
       "    .dataframe tbody tr th:only-of-type {\n",
       "        vertical-align: middle;\n",
       "    }\n",
       "\n",
       "    .dataframe tbody tr th {\n",
       "        vertical-align: top;\n",
       "    }\n",
       "\n",
       "    .dataframe thead th {\n",
       "        text-align: right;\n",
       "    }\n",
       "</style>\n",
       "<table border=\"1\" class=\"dataframe\">\n",
       "  <thead>\n",
       "    <tr style=\"text-align: right;\">\n",
       "      <th></th>\n",
       "      <th>date</th>\n",
       "      <th>time</th>\n",
       "      <th>booking_id</th>\n",
       "      <th>booking_status</th>\n",
       "      <th>customer_id</th>\n",
       "      <th>vehicle_type</th>\n",
       "      <th>pickup_location</th>\n",
       "      <th>drop_location</th>\n",
       "      <th>avg_vtat</th>\n",
       "      <th>avg_ctat</th>\n",
       "      <th>...</th>\n",
       "      <th>cancelled_rides_by_driver</th>\n",
       "      <th>driver_cancellation_reason</th>\n",
       "      <th>incomplete_rides</th>\n",
       "      <th>incomplete_rides_reason</th>\n",
       "      <th>booking_value</th>\n",
       "      <th>ride_distance</th>\n",
       "      <th>driver_ratings</th>\n",
       "      <th>customer_rating</th>\n",
       "      <th>payment_method</th>\n",
       "      <th>unique_transaction_id</th>\n",
       "    </tr>\n",
       "  </thead>\n",
       "  <tbody>\n",
       "    <tr>\n",
       "      <th>0</th>\n",
       "      <td>2024-03-23</td>\n",
       "      <td>12:29:38</td>\n",
       "      <td>\"CNR5884300\"</td>\n",
       "      <td>No Driver Found</td>\n",
       "      <td>\"CID1982111\"</td>\n",
       "      <td>eBike</td>\n",
       "      <td>Palam Vihar</td>\n",
       "      <td>Jhilmil</td>\n",
       "      <td>8.456352</td>\n",
       "      <td>29.149636</td>\n",
       "      <td>...</td>\n",
       "      <td>1.0</td>\n",
       "      <td>Unknown</td>\n",
       "      <td>1.0</td>\n",
       "      <td>Unknown</td>\n",
       "      <td>508.295912</td>\n",
       "      <td>24.637012</td>\n",
       "      <td>4.230992</td>\n",
       "      <td>4.404584</td>\n",
       "      <td>Unknown</td>\n",
       "      <td>\"CNR5884300\"_2024-03-23_12:29:38</td>\n",
       "    </tr>\n",
       "    <tr>\n",
       "      <th>1</th>\n",
       "      <td>2024-11-29</td>\n",
       "      <td>18:01:39</td>\n",
       "      <td>\"CNR1326809\"</td>\n",
       "      <td>Incomplete</td>\n",
       "      <td>\"CID4604802\"</td>\n",
       "      <td>Go Sedan</td>\n",
       "      <td>Shastri Nagar</td>\n",
       "      <td>Gurgaon Sector 56</td>\n",
       "      <td>4.900000</td>\n",
       "      <td>14.000000</td>\n",
       "      <td>...</td>\n",
       "      <td>1.0</td>\n",
       "      <td>Unknown</td>\n",
       "      <td>1.0</td>\n",
       "      <td>Vehicle Breakdown</td>\n",
       "      <td>237.000000</td>\n",
       "      <td>5.730000</td>\n",
       "      <td>4.230992</td>\n",
       "      <td>4.404584</td>\n",
       "      <td>UPI</td>\n",
       "      <td>\"CNR1326809\"_2024-11-29_18:01:39</td>\n",
       "    </tr>\n",
       "    <tr>\n",
       "      <th>2</th>\n",
       "      <td>2024-08-23</td>\n",
       "      <td>08:56:10</td>\n",
       "      <td>\"CNR8494506\"</td>\n",
       "      <td>Completed</td>\n",
       "      <td>\"CID9202816\"</td>\n",
       "      <td>Auto</td>\n",
       "      <td>Khandsa</td>\n",
       "      <td>Malviya Nagar</td>\n",
       "      <td>13.400000</td>\n",
       "      <td>25.800000</td>\n",
       "      <td>...</td>\n",
       "      <td>1.0</td>\n",
       "      <td>Unknown</td>\n",
       "      <td>1.0</td>\n",
       "      <td>Unknown</td>\n",
       "      <td>627.000000</td>\n",
       "      <td>13.580000</td>\n",
       "      <td>4.900000</td>\n",
       "      <td>4.900000</td>\n",
       "      <td>Debit Card</td>\n",
       "      <td>\"CNR8494506\"_2024-08-23_08:56:10</td>\n",
       "    </tr>\n",
       "    <tr>\n",
       "      <th>3</th>\n",
       "      <td>2024-10-21</td>\n",
       "      <td>17:17:25</td>\n",
       "      <td>\"CNR8906825\"</td>\n",
       "      <td>Completed</td>\n",
       "      <td>\"CID2610914\"</td>\n",
       "      <td>Premier Sedan</td>\n",
       "      <td>Central Secretariat</td>\n",
       "      <td>Inderlok</td>\n",
       "      <td>13.100000</td>\n",
       "      <td>28.500000</td>\n",
       "      <td>...</td>\n",
       "      <td>1.0</td>\n",
       "      <td>Unknown</td>\n",
       "      <td>1.0</td>\n",
       "      <td>Unknown</td>\n",
       "      <td>416.000000</td>\n",
       "      <td>34.020000</td>\n",
       "      <td>4.600000</td>\n",
       "      <td>5.000000</td>\n",
       "      <td>UPI</td>\n",
       "      <td>\"CNR8906825\"_2024-10-21_17:17:25</td>\n",
       "    </tr>\n",
       "    <tr>\n",
       "      <th>4</th>\n",
       "      <td>2024-09-16</td>\n",
       "      <td>22:08:00</td>\n",
       "      <td>\"CNR1950162\"</td>\n",
       "      <td>Completed</td>\n",
       "      <td>\"CID9933542\"</td>\n",
       "      <td>Bike</td>\n",
       "      <td>Ghitorni Village</td>\n",
       "      <td>Khan Market</td>\n",
       "      <td>5.300000</td>\n",
       "      <td>19.600000</td>\n",
       "      <td>...</td>\n",
       "      <td>1.0</td>\n",
       "      <td>Unknown</td>\n",
       "      <td>1.0</td>\n",
       "      <td>Unknown</td>\n",
       "      <td>737.000000</td>\n",
       "      <td>48.210000</td>\n",
       "      <td>4.100000</td>\n",
       "      <td>4.300000</td>\n",
       "      <td>UPI</td>\n",
       "      <td>\"CNR1950162\"_2024-09-16_22:08:00</td>\n",
       "    </tr>\n",
       "  </tbody>\n",
       "</table>\n",
       "<p>5 rows × 22 columns</p>\n",
       "</div>"
      ],
      "text/plain": [
       "         date      time    booking_id   booking_status   customer_id  \\\n",
       "0  2024-03-23  12:29:38  \"CNR5884300\"  No Driver Found  \"CID1982111\"   \n",
       "1  2024-11-29  18:01:39  \"CNR1326809\"       Incomplete  \"CID4604802\"   \n",
       "2  2024-08-23  08:56:10  \"CNR8494506\"        Completed  \"CID9202816\"   \n",
       "3  2024-10-21  17:17:25  \"CNR8906825\"        Completed  \"CID2610914\"   \n",
       "4  2024-09-16  22:08:00  \"CNR1950162\"        Completed  \"CID9933542\"   \n",
       "\n",
       "    vehicle_type      pickup_location      drop_location   avg_vtat  \\\n",
       "0          eBike          Palam Vihar            Jhilmil   8.456352   \n",
       "1       Go Sedan        Shastri Nagar  Gurgaon Sector 56   4.900000   \n",
       "2           Auto              Khandsa      Malviya Nagar  13.400000   \n",
       "3  Premier Sedan  Central Secretariat           Inderlok  13.100000   \n",
       "4           Bike     Ghitorni Village        Khan Market   5.300000   \n",
       "\n",
       "    avg_ctat  ...  cancelled_rides_by_driver driver_cancellation_reason  \\\n",
       "0  29.149636  ...                        1.0                    Unknown   \n",
       "1  14.000000  ...                        1.0                    Unknown   \n",
       "2  25.800000  ...                        1.0                    Unknown   \n",
       "3  28.500000  ...                        1.0                    Unknown   \n",
       "4  19.600000  ...                        1.0                    Unknown   \n",
       "\n",
       "   incomplete_rides incomplete_rides_reason  booking_value ride_distance  \\\n",
       "0               1.0                 Unknown     508.295912     24.637012   \n",
       "1               1.0       Vehicle Breakdown     237.000000      5.730000   \n",
       "2               1.0                 Unknown     627.000000     13.580000   \n",
       "3               1.0                 Unknown     416.000000     34.020000   \n",
       "4               1.0                 Unknown     737.000000     48.210000   \n",
       "\n",
       "   driver_ratings  customer_rating  payment_method  \\\n",
       "0        4.230992         4.404584         Unknown   \n",
       "1        4.230992         4.404584             UPI   \n",
       "2        4.900000         4.900000      Debit Card   \n",
       "3        4.600000         5.000000             UPI   \n",
       "4        4.100000         4.300000             UPI   \n",
       "\n",
       "              unique_transaction_id  \n",
       "0  \"CNR5884300\"_2024-03-23_12:29:38  \n",
       "1  \"CNR1326809\"_2024-11-29_18:01:39  \n",
       "2  \"CNR8494506\"_2024-08-23_08:56:10  \n",
       "3  \"CNR8906825\"_2024-10-21_17:17:25  \n",
       "4  \"CNR1950162\"_2024-09-16_22:08:00  \n",
       "\n",
       "[5 rows x 22 columns]"
      ]
     },
     "execution_count": 3,
     "metadata": {},
     "output_type": "execute_result"
    }
   ],
   "source": [
    "# Load data\n",
    "df = pd.read_csv('./uber_data_clean.csv')\n",
    "\n",
    "# create new column unique_transaction_id\n",
    "df['unique_transaction_id'] = df['booking_id'].astype(str) + '_' + df['date'].astype(str) + '_' + df['time'].astype(str)\n",
    "\n",
    "\n",
    "context = FileDataContext.create(project_root_dir='./')\n",
    "\n",
    "#add datasource\n",
    "datasource_name = 'uber-ride-data'\n",
    "datasource = context.sources.add_pandas(name=datasource_name)\n",
    "\n",
    "# add asset\n",
    "asset_name = 'uber-trips-2024'\n",
    "asset = datasource.add_dataframe_asset(name=asset_name, dataframe=df)\n",
    "\n",
    "# set batch request\n",
    "batch_request = asset.build_batch_request()\n",
    "\n",
    "# Add expectation \n",
    "expectation_suite_name = 'uber_ride_data_validation'\n",
    "context.add_or_update_expectation_suite(expectation_suite_name)\n",
    "\n",
    "# create validator\n",
    "validator = context.get_validator(\n",
    "    batch_request=batch_request,\n",
    "    expectation_suite_name=expectation_suite_name\n",
    ")\n",
    "\n",
    "\n",
    "validator.head()"
   ]
  },
  {
   "cell_type": "code",
   "execution_count": 4,
   "id": "b2d1138b",
   "metadata": {},
   "outputs": [
    {
     "data": {
      "application/vnd.jupyter.widget-view+json": {
       "model_id": "cfdb529e61bf4104851c61925e27bb9d",
       "version_major": 2,
       "version_minor": 0
      },
      "text/plain": [
       "Calculating Metrics:   0%|          | 0/8 [00:00<?, ?it/s]"
      ]
     },
     "metadata": {},
     "output_type": "display_data"
    },
    {
     "data": {
      "text/plain": [
       "{\n",
       "  \"success\": true,\n",
       "  \"result\": {\n",
       "    \"element_count\": 150000,\n",
       "    \"unexpected_count\": 0,\n",
       "    \"unexpected_percent\": 0.0,\n",
       "    \"partial_unexpected_list\": [],\n",
       "    \"missing_count\": 0,\n",
       "    \"missing_percent\": 0.0,\n",
       "    \"unexpected_percent_total\": 0.0,\n",
       "    \"unexpected_percent_nonmissing\": 0.0\n",
       "  },\n",
       "  \"meta\": {},\n",
       "  \"exception_info\": {\n",
       "    \"raised_exception\": false,\n",
       "    \"exception_traceback\": null,\n",
       "    \"exception_message\": null\n",
       "  }\n",
       "}"
      ]
     },
     "execution_count": 4,
     "metadata": {},
     "output_type": "execute_result"
    }
   ],
   "source": [
    "# Expectation 1 : Column `unique_transaction_id` is unique\n",
    "validator.expect_column_values_to_be_unique('unique_transaction_id')"
   ]
  },
  {
   "cell_type": "markdown",
   "id": "c585bea1",
   "metadata": {},
   "source": [
    "Ekspektasi pada kolom unique_transaction_id succes. Ini menunjukkan bahwa semua nilai di kolom tersebut unik dan tidak ada duplikasi sama sekali"
   ]
  },
  {
   "cell_type": "code",
   "execution_count": 5,
   "id": "e987f435",
   "metadata": {},
   "outputs": [
    {
     "data": {
      "application/vnd.jupyter.widget-view+json": {
       "model_id": "e3d297a16dae41aa975d6775f145dfc3",
       "version_major": 2,
       "version_minor": 0
      },
      "text/plain": [
       "Calculating Metrics:   0%|          | 0/8 [00:00<?, ?it/s]"
      ]
     },
     "metadata": {},
     "output_type": "display_data"
    },
    {
     "data": {
      "text/plain": [
       "{\n",
       "  \"success\": true,\n",
       "  \"result\": {\n",
       "    \"element_count\": 150000,\n",
       "    \"unexpected_count\": 0,\n",
       "    \"unexpected_percent\": 0.0,\n",
       "    \"partial_unexpected_list\": [],\n",
       "    \"missing_count\": 0,\n",
       "    \"missing_percent\": 0.0,\n",
       "    \"unexpected_percent_total\": 0.0,\n",
       "    \"unexpected_percent_nonmissing\": 0.0\n",
       "  },\n",
       "  \"meta\": {},\n",
       "  \"exception_info\": {\n",
       "    \"raised_exception\": false,\n",
       "    \"exception_traceback\": null,\n",
       "    \"exception_message\": null\n",
       "  }\n",
       "}"
      ]
     },
     "execution_count": 5,
     "metadata": {},
     "output_type": "execute_result"
    }
   ],
   "source": [
    "# Expectation 2: customer_rating is between 1 and 5\n",
    "\n",
    "validator.expect_column_values_to_be_between(\n",
    "    column='customer_rating', min_value=1, max_value=5\n",
    ")"
   ]
  },
  {
   "cell_type": "markdown",
   "id": "01b9ada3",
   "metadata": {},
   "source": [
    "Ekspektasi pada kolom customer_rating succes. Ini menunjukkan bahwa semua value di kolom tersebut bernilai 1-5"
   ]
  },
  {
   "cell_type": "code",
   "execution_count": 6,
   "id": "b0f6827a",
   "metadata": {},
   "outputs": [
    {
     "data": {
      "application/vnd.jupyter.widget-view+json": {
       "model_id": "213fcf6bb6a048eeab4e88581e696ed6",
       "version_major": 2,
       "version_minor": 0
      },
      "text/plain": [
       "Calculating Metrics:   0%|          | 0/1 [00:00<?, ?it/s]"
      ]
     },
     "metadata": {},
     "output_type": "display_data"
    },
    {
     "data": {
      "text/plain": [
       "{\n",
       "  \"success\": true,\n",
       "  \"result\": {\n",
       "    \"observed_value\": \"float64\"\n",
       "  },\n",
       "  \"meta\": {},\n",
       "  \"exception_info\": {\n",
       "    \"raised_exception\": false,\n",
       "    \"exception_traceback\": null,\n",
       "    \"exception_message\": null\n",
       "  }\n",
       "}"
      ]
     },
     "execution_count": 6,
     "metadata": {},
     "output_type": "execute_result"
    }
   ],
   "source": [
    "#Expectation 3: ride_distance has a valid data type\n",
    "\n",
    "validator.expect_column_values_to_be_in_type_list(\n",
    "    'ride_distance', ['float', 'integer']\n",
    ")"
   ]
  },
  {
   "cell_type": "markdown",
   "id": "6e4aaa8d",
   "metadata": {},
   "source": [
    "Ekspektasi pada kolom ride_distance success. Ini menunjukkan kolom tersebut sudah bertipe data float/integer dikarenakan ride distance adalah untuk kolom jarak perjalanan yang perlu diisi angka numerical"
   ]
  },
  {
   "cell_type": "code",
   "execution_count": 7,
   "id": "b4a92164",
   "metadata": {},
   "outputs": [
    {
     "data": {
      "application/vnd.jupyter.widget-view+json": {
       "model_id": "c3c85573ca29427cad90fd52f26e43eb",
       "version_major": 2,
       "version_minor": 0
      },
      "text/plain": [
       "Calculating Metrics:   0%|          | 0/4 [00:00<?, ?it/s]"
      ]
     },
     "metadata": {},
     "output_type": "display_data"
    },
    {
     "data": {
      "text/plain": [
       "{\n",
       "  \"success\": true,\n",
       "  \"result\": {\n",
       "    \"observed_value\": 24.637011666666666\n",
       "  },\n",
       "  \"meta\": {},\n",
       "  \"exception_info\": {\n",
       "    \"raised_exception\": false,\n",
       "    \"exception_traceback\": null,\n",
       "    \"exception_message\": null\n",
       "  }\n",
       "}"
      ]
     },
     "execution_count": 7,
     "metadata": {},
     "output_type": "execute_result"
    }
   ],
   "source": [
    "#Expectation 4: ride_distance betwwen min 1 max 30\n",
    "\n",
    "validator.expect_column_mean_to_be_between('ride_distance', min_value=1, max_value=30)"
   ]
  },
  {
   "cell_type": "markdown",
   "id": "5d93765a",
   "metadata": {},
   "source": [
    "Ekspektasi pada kolom ride_distance success. Ini menunjukkan kolom tersebut sudah memiliki rata rata minimal 1 km - 30 km value"
   ]
  },
  {
   "cell_type": "code",
   "execution_count": 8,
   "id": "5e1fc0e3",
   "metadata": {},
   "outputs": [
    {
     "data": {
      "application/vnd.jupyter.widget-view+json": {
       "model_id": "79621ce8b1404ea9b0904cdf88290498",
       "version_major": 2,
       "version_minor": 0
      },
      "text/plain": [
       "Calculating Metrics:   0%|          | 0/8 [00:00<?, ?it/s]"
      ]
     },
     "metadata": {},
     "output_type": "display_data"
    },
    {
     "data": {
      "text/plain": [
       "{\n",
       "  \"success\": true,\n",
       "  \"result\": {\n",
       "    \"element_count\": 150000,\n",
       "    \"unexpected_count\": 0,\n",
       "    \"unexpected_percent\": 0.0,\n",
       "    \"partial_unexpected_list\": [],\n",
       "    \"missing_count\": 0,\n",
       "    \"missing_percent\": 0.0,\n",
       "    \"unexpected_percent_total\": 0.0,\n",
       "    \"unexpected_percent_nonmissing\": 0.0\n",
       "  },\n",
       "  \"meta\": {},\n",
       "  \"exception_info\": {\n",
       "    \"raised_exception\": false,\n",
       "    \"exception_traceback\": null,\n",
       "    \"exception_message\": null\n",
       "  }\n",
       "}"
      ]
     },
     "execution_count": 8,
     "metadata": {},
     "output_type": "execute_result"
    }
   ],
   "source": [
    "#Expectation 5: booking_status is a valid status\n",
    "validator.expect_column_values_to_be_in_set(\n",
    "    'booking_status', \n",
    "    ['Completed', 'Cancelled by Customer', 'Cancelled by Driver', 'No Driver Found', 'Incomplete', 'Pending', 'Scheduled', 'In Transit'] \n",
    ")"
   ]
  },
  {
   "cell_type": "markdown",
   "id": "a5dd0243",
   "metadata": {},
   "source": [
    "Ekspektasi pada kolom booking_status success. Ini menunjukkan bahwa semua data pada kolom booking_status sudah sesuai dengan daftar status yang valid dengan tidak ada nilai yang di luar daftar tersebut"
   ]
  },
  {
   "cell_type": "code",
   "execution_count": 9,
   "id": "533b6285",
   "metadata": {},
   "outputs": [
    {
     "data": {
      "application/vnd.jupyter.widget-view+json": {
       "model_id": "ac6b010902724cd895f935dbb77ea887",
       "version_major": 2,
       "version_minor": 0
      },
      "text/plain": [
       "Calculating Metrics:   0%|          | 0/6 [00:00<?, ?it/s]"
      ]
     },
     "metadata": {},
     "output_type": "display_data"
    },
    {
     "data": {
      "text/plain": [
       "{\n",
       "  \"success\": true,\n",
       "  \"result\": {\n",
       "    \"element_count\": 150000,\n",
       "    \"unexpected_count\": 0,\n",
       "    \"unexpected_percent\": 0.0,\n",
       "    \"partial_unexpected_list\": []\n",
       "  },\n",
       "  \"meta\": {},\n",
       "  \"exception_info\": {\n",
       "    \"raised_exception\": false,\n",
       "    \"exception_traceback\": null,\n",
       "    \"exception_message\": null\n",
       "  }\n",
       "}"
      ]
     },
     "execution_count": 9,
     "metadata": {},
     "output_type": "execute_result"
    }
   ],
   "source": [
    "#Expectation 6: driver_cancellation_reason is not null \n",
    "\n",
    "validator.expect_column_values_to_not_be_null(\n",
    "    'driver_cancellation_reason',\n",
    "    mostly=0.95, \n",
    "    condition_list=[{'condition': 'booking_status', 'op': 'eq', 'value': 'Cancelled by Driver'}]\n",
    ")"
   ]
  },
  {
   "cell_type": "markdown",
   "id": "c7241f1e",
   "metadata": {},
   "source": [
    "Ekspektasi pada kolom driver_cancellation_reason success. Ini menunjukkan bahwa setiap kali booking_status bernilai 'Cancelled by Driver' maka kolom driver_cancellation_reason tidak boleh kosong"
   ]
  },
  {
   "cell_type": "code",
   "execution_count": 10,
   "id": "5ad4741d",
   "metadata": {},
   "outputs": [
    {
     "data": {
      "application/vnd.jupyter.widget-view+json": {
       "model_id": "fb5c85746db94c6a8a328cb7d726f9f6",
       "version_major": 2,
       "version_minor": 0
      },
      "text/plain": [
       "Calculating Metrics:   0%|          | 0/4 [00:00<?, ?it/s]"
      ]
     },
     "metadata": {},
     "output_type": "display_data"
    },
    {
     "data": {
      "text/plain": [
       "{\n",
       "  \"success\": true,\n",
       "  \"result\": {\n",
       "    \"observed_value\": 50.0\n",
       "  },\n",
       "  \"meta\": {},\n",
       "  \"exception_info\": {\n",
       "    \"raised_exception\": false,\n",
       "    \"exception_traceback\": null,\n",
       "    \"exception_message\": null\n",
       "  }\n",
       "}"
      ]
     },
     "execution_count": 10,
     "metadata": {},
     "output_type": "execute_result"
    }
   ],
   "source": [
    "#Expectation 7: booking_value has a minimum value 0\n",
    "\n",
    "validator.expect_column_min_to_be_between('booking_value', min_value=0)"
   ]
  },
  {
   "cell_type": "markdown",
   "id": "2bdca2d0",
   "metadata": {},
   "source": [
    "Ekspektasi pada kolom booking_value success. Ini menunjukkan bahwa nilai terkecil pada kolom booking_value adalah 0 maka tidak ada nilai negatif di dalamnya"
   ]
  },
  {
   "cell_type": "code",
   "execution_count": 11,
   "id": "4c64ce7f",
   "metadata": {},
   "outputs": [],
   "source": [
    "validator.save_expectation_suite(discard_failed_expectations=False)"
   ]
  }
 ],
 "metadata": {
  "kernelspec": {
   "display_name": "h8_env",
   "language": "python",
   "name": "python3"
  },
  "language_info": {
   "codemirror_mode": {
    "name": "ipython",
    "version": 3
   },
   "file_extension": ".py",
   "mimetype": "text/x-python",
   "name": "python",
   "nbconvert_exporter": "python",
   "pygments_lexer": "ipython3",
   "version": "3.9.23"
  }
 },
 "nbformat": 4,
 "nbformat_minor": 5
}
